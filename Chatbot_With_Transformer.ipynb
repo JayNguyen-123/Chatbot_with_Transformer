{
  "nbformat": 4,
  "nbformat_minor": 0,
  "metadata": {
    "colab": {
      "provenance": [],
      "gpuType": "T4",
      "authorship_tag": "ABX9TyPFzEZTEUH5kGHUOhQN4mGC",
      "include_colab_link": true
    },
    "kernelspec": {
      "name": "python3",
      "display_name": "Python 3"
    },
    "language_info": {
      "name": "python"
    },
    "accelerator": "GPU"
  },
  "cells": [
    {
      "cell_type": "markdown",
      "metadata": {
        "id": "view-in-github",
        "colab_type": "text"
      },
      "source": [
        "<a href=\"https://colab.research.google.com/github/JayNguyen-123/Chatbot_with_Transformer/blob/main/Chatbot_With_Transformer.ipynb\" target=\"_parent\"><img src=\"https://colab.research.google.com/assets/colab-badge.svg\" alt=\"Open In Colab\"/></a>"
      ]
    },
    {
      "cell_type": "code",
      "source": [
        "from collections import Counter\n",
        "import json\n",
        "import torch\n",
        "import torch.nn as nn\n",
        "from torch.utils.data import Dataset\n",
        "import torch.utils.data\n",
        "import math\n",
        "import torch.nn.functional as F\n"
      ],
      "metadata": {
        "id": "O6Sn9z2bG1fC"
      },
      "execution_count": 9,
      "outputs": []
    },
    {
      "cell_type": "code",
      "source": [
        "corpus_movie_conv = '/content/movie_conversations.txt'\n",
        "corpus_movie_lines = '/content/movie_lines.txt'\n",
        "max_len = 25\n"
      ],
      "metadata": {
        "id": "qU45Bhi4G-YS"
      },
      "execution_count": 10,
      "outputs": []
    },
    {
      "cell_type": "code",
      "source": [
        "with open(corpus_movie_conv, 'r') as c:\n",
        "    conv = c.readlines()"
      ],
      "metadata": {
        "id": "7261OBxgHR3t"
      },
      "execution_count": 11,
      "outputs": []
    },
    {
      "cell_type": "code",
      "source": [
        "with open(corpus_movie_lines, \"r\", encoding=\"utf-8\", errors='ignore') as l:\n",
        "  lines = l.readlines() # Ignore decoding errors\n"
      ],
      "metadata": {
        "id": "7-BK6L0dHWfn"
      },
      "execution_count": 12,
      "outputs": []
    },
    {
      "cell_type": "code",
      "source": [
        "lines_dic = {}\n",
        "for line in lines:\n",
        "    objects = line.split(\" +++$+++ \")\n",
        "    lines_dic[objects[0]] = objects[-1]\n",
        ""
      ],
      "metadata": {
        "id": "x_KknDUEHZ7c"
      },
      "execution_count": 13,
      "outputs": []
    },
    {
      "cell_type": "code",
      "source": [
        "def remove_punc(string):\n",
        "    punctuations = '''!()-[]{};:'\"\\,<>./?@#$%^&*_~'''\n",
        "    no_punct = \"\"\n",
        "    for char in string:\n",
        "        if char not in punctuations:\n",
        "            no_punct = no_punct + char  # space is also a character\n",
        "    return no_punct.lower()\n",
        ""
      ],
      "metadata": {
        "id": "L4Rvu5yMHeEj"
      },
      "execution_count": 14,
      "outputs": []
    },
    {
      "cell_type": "code",
      "source": [
        "pairs = []\n",
        "for con in conv:\n",
        "    ids = eval(con.split(\" +++$+++ \")[-1])\n",
        "    for i in range(len(ids)):\n",
        "        qa_pairs = []\n",
        "\n",
        "        if i==len(ids)-1:\n",
        "            break\n",
        "\n",
        "        first = remove_punc(lines_dic[ids[i]].strip())\n",
        "        second = remove_punc(lines_dic[ids[i+1]].strip())\n",
        "        qa_pairs.append(first.split()[:max_len])\n",
        "        qa_pairs.append(second.split()[:max_len])\n",
        "        pairs.append(qa_pairs)\n",
        ""
      ],
      "metadata": {
        "id": "ilVv0lJAHime"
      },
      "execution_count": 15,
      "outputs": []
    },
    {
      "cell_type": "code",
      "source": [
        "\n",
        "word_freq = Counter()\n",
        "for pair in pairs:\n",
        "    word_freq.update(pair[0])\n",
        "    word_freq.update(pair[1])\n",
        ""
      ],
      "metadata": {
        "id": "MiXy7OzLKppT"
      },
      "execution_count": 16,
      "outputs": []
    },
    {
      "cell_type": "code",
      "source": [
        "min_word_freq = 5\n",
        "words = [w for w in word_freq.keys() if word_freq[w] > min_word_freq]\n",
        "word_map = {k: v + 1 for v, k in enumerate(words)}\n",
        "word_map['<unk>'] = len(word_map) + 1\n",
        "word_map['<start>'] = len(word_map) + 1\n",
        "word_map['<end>'] = len(word_map) + 1\n",
        "word_map['<pad>'] = 0\n"
      ],
      "metadata": {
        "id": "nmq7JSOFKtfd"
      },
      "execution_count": 17,
      "outputs": []
    },
    {
      "cell_type": "code",
      "source": [
        "print(\"Total words are: {}\".format(len(word_map)))\n"
      ],
      "metadata": {
        "colab": {
          "base_uri": "https://localhost:8080/"
        },
        "id": "Ka6q_XftKynb",
        "outputId": "2deb09af-d349-4a08-ff9f-d2cd315e70bc"
      },
      "execution_count": 18,
      "outputs": [
        {
          "output_type": "stream",
          "name": "stdout",
          "text": [
            "Total words are: 18190\n"
          ]
        }
      ]
    },
    {
      "cell_type": "code",
      "source": [
        "with open('WORDMAP_corpus.json', 'w') as j:\n",
        "    json.dump(word_map, j)\n",
        ""
      ],
      "metadata": {
        "id": "_ABfEVYCK3T_"
      },
      "execution_count": 19,
      "outputs": []
    },
    {
      "cell_type": "code",
      "source": [
        "def encode_question(words, word_map):\n",
        "    enc_c = [word_map.get(word, word_map['<unk>']) for word in words] + [word_map['<pad>']] * (max_len - len(words))\n",
        "    return enc_c\n",
        ""
      ],
      "metadata": {
        "id": "HqVvk1n_K6Iu"
      },
      "execution_count": 20,
      "outputs": []
    },
    {
      "cell_type": "code",
      "source": [
        "def encode_reply(words, word_map):\n",
        "    enc_c = [word_map['<start>']] + [word_map.get(word, word_map['<unk>']) for word in words] + \\\n",
        "    [word_map['<end>']] + [word_map['<pad>']] * (max_len - len(words))\n",
        "    return enc_c\n",
        ""
      ],
      "metadata": {
        "id": "sl1a6Mc4K-eM"
      },
      "execution_count": 21,
      "outputs": []
    },
    {
      "cell_type": "code",
      "source": [
        "pairs_encoded = []\n",
        "for pair in pairs:\n",
        "    qus = encode_question(pair[0], word_map)\n",
        "    ans = encode_reply(pair[1], word_map)\n",
        "    pairs_encoded.append([qus, ans])\n",
        ""
      ],
      "metadata": {
        "id": "qmOtBW2aLBZj"
      },
      "execution_count": 22,
      "outputs": []
    },
    {
      "cell_type": "code",
      "source": [
        "\n",
        "with open('pairs_encoded.json', 'w') as p:\n",
        "    json.dump(pairs_encoded, p)\n",
        ""
      ],
      "metadata": {
        "id": "GUs1z9yzLGYZ"
      },
      "execution_count": 23,
      "outputs": []
    },
    {
      "cell_type": "code",
      "source": [
        "class Dataset(Dataset):\n",
        "\n",
        "    def __init__(self):\n",
        "\n",
        "        self.pairs = json.load(open('pairs_encoded.json'))\n",
        "        self.dataset_size = len(self.pairs)\n",
        "\n",
        "    def __getitem__(self, i):\n",
        "\n",
        "        question = torch.LongTensor(self.pairs[i][0])\n",
        "        reply = torch.LongTensor(self.pairs[i][1])\n",
        "\n",
        "        return question, reply\n",
        "\n",
        "    def __len__(self):\n",
        "        return self.dataset_size\n",
        ""
      ],
      "metadata": {
        "id": "kSd7ky66LKDX"
      },
      "execution_count": 24,
      "outputs": []
    },
    {
      "cell_type": "code",
      "source": [
        "train_loader = torch.utils.data.DataLoader(Dataset(),\n",
        "                                           batch_size = 100,\n",
        "                                           shuffle=True,\n",
        "                                           pin_memory=True)\n"
      ],
      "metadata": {
        "id": "Lj2TbrMDLNeC"
      },
      "execution_count": 25,
      "outputs": []
    },
    {
      "cell_type": "code",
      "source": [
        "def create_masks(question, reply_input, reply_target):\n",
        "\n",
        "    def subsequent_mask(size):\n",
        "        mask = torch.triu(torch.ones(size, size)).transpose(0, 1).type(dtype=torch.uint8)\n",
        "        return mask.unsqueeze(0)\n",
        "\n",
        "    question_mask = question!=0\n",
        "    question_mask = question_mask.to(device)\n",
        "    question_mask = question_mask.unsqueeze(1).unsqueeze(1)         # (batch_size, 1, 1, max_words)\n",
        "\n",
        "    reply_input_mask = reply_input!=0\n",
        "    reply_input_mask = reply_input_mask.unsqueeze(1)  # (batch_size, 1, max_words)\n",
        "    reply_input_mask = reply_input_mask & subsequent_mask(reply_input.size(-1)).type_as(reply_input_mask.data)\n",
        "    reply_input_mask = reply_input_mask.unsqueeze(1) # (batch_size, 1, max_words, max_words)\n",
        "    reply_target_mask = reply_target!=0              # (batch_size, max_words)\n",
        "\n",
        "    return question_mask, reply_input_mask, reply_target_mask\n",
        ""
      ],
      "metadata": {
        "id": "oZxp1oplLR6-"
      },
      "execution_count": 26,
      "outputs": []
    },
    {
      "cell_type": "code",
      "source": [
        "class Embeddings(nn.Module):\n",
        "    \"\"\"\n",
        "    Implements embeddings of the words and adds their positional encodings.\n",
        "    \"\"\"\n",
        "    def __init__(self, vocab_size, d_model, max_len = 50, num_layers = 6):\n",
        "        super(Embeddings, self).__init__()\n",
        "        self.d_model = d_model\n",
        "        self.dropout = nn.Dropout(0.1)\n",
        "        self.embed = nn.Embedding(vocab_size, d_model)\n",
        "        self.pe = self.create_positinal_encoding(max_len, self.d_model)     # (1, max_len, d_model)\n",
        "        self.te = self.create_positinal_encoding(num_layers, self.d_model)  # (1, num_layers, d_model)\n",
        "        self.dropout = nn.Dropout(0.1)\n",
        "\n",
        "    def create_positinal_encoding(self, max_len, d_model):\n",
        "        pe = torch.zeros(max_len, d_model).to(device)\n",
        "        for pos in range(max_len):   # for each position of the word\n",
        "            for i in range(0, d_model, 2):   # for each dimension of the each position\n",
        "                pe[pos, i] = math.sin(pos / (10000 ** ((2 * i)/d_model)))\n",
        "                pe[pos, i + 1] = math.cos(pos / (10000 ** ((2 * (i + 1))/d_model)))\n",
        "        pe = pe.unsqueeze(0)   # include the batch size\n",
        "        return pe\n",
        "\n",
        "    def forward(self, embedding, layer_idx):\n",
        "        if layer_idx == 0:\n",
        "            embedding = self.embed(embedding) * math.sqrt(self.d_model)\n",
        "        embedding += self.pe[:, :embedding.size(1)]   # pe will automatically be expanded with the same batch size as encoded_words\n",
        "        # embedding: (batch_size, max_len, d_model), te: (batch_size, 1, d_model)\n",
        "        embedding += self.te[:, layer_idx, :].unsqueeze(1).repeat(1, embedding.size(1), 1)\n",
        "        embedding = self.dropout(embedding)\n",
        "        return embedding\n",
        ""
      ],
      "metadata": {
        "id": "KzcPIFCaLWYz"
      },
      "execution_count": 27,
      "outputs": []
    },
    {
      "cell_type": "code",
      "source": [
        "class MultiHeadAttention(nn.Module):\n",
        "\n",
        "    def __init__(self, heads, d_model):\n",
        "\n",
        "        super(MultiHeadAttention, self).__init__()\n",
        "        assert d_model % heads == 0\n",
        "        self.d_k = d_model // heads\n",
        "        self.heads = heads\n",
        "        self.dropout = nn.Dropout(0.1)\n",
        "        self.query = nn.Linear(d_model, d_model)\n",
        "        self.key = nn.Linear(d_model, d_model)\n",
        "        self.value = nn.Linear(d_model, d_model)\n",
        "        self.concat = nn.Linear(d_model, d_model)\n",
        "\n",
        "    def forward(self, query, key, value, mask):\n",
        "        \"\"\"\n",
        "        query, key, value of shape: (batch_size, max_len, 512)\n",
        "        mask of shape: (batch_size, 1, 1, max_words)\n",
        "        \"\"\"\n",
        "        # (batch_size, max_len, 512)\n",
        "        query = self.query(query)\n",
        "        key = self.key(key)\n",
        "        value = self.value(value)\n",
        "\n",
        "        # (batch_size, max_len, 512) --> (batch_size, max_len, h, d_k) --> (batch_size, h, max_len, d_k)\n",
        "        query = query.view(query.shape[0], -1, self.heads, self.d_k).permute(0, 2, 1, 3)\n",
        "        key = key.view(key.shape[0], -1, self.heads, self.d_k).permute(0, 2, 1, 3)\n",
        "        value = value.view(value.shape[0], -1, self.heads, self.d_k).permute(0, 2, 1, 3)\n",
        "\n",
        "        # (batch_size, h, max_len, d_k) matmul (batch_size, h, d_k, max_len) --> (batch_size, h, max_len, max_len)\n",
        "        scores = torch.matmul(query, key.permute(0,1,3,2)) / math.sqrt(query.size(-1))\n",
        "        scores = scores.masked_fill(mask == 0, -1e9)    # (batch_size, h, max_len, max_len)\n",
        "        weights = F.softmax(scores, dim = -1)           # (batch_size, h, max_len, max_len)\n",
        "        weights = self.dropout(weights)\n",
        "        # (batch_size, h, max_len, max_len) matmul (batch_size, h, max_len, d_k) --> (batch_size, h, max_len, d_k)\n",
        "        context = torch.matmul(weights, value)\n",
        "        # (batch_size, h, max_len, d_k) --> (batch_size, max_len, h, d_k) --> (batch_size, max_len, h * d_k)\n",
        "        context = context.permute(0,2,1,3).contiguous().view(context.shape[0], -1, self.heads * self.d_k)\n",
        "        # (batch_size, max_len, h * d_k)\n",
        "        interacted = self.concat(context)\n",
        "        return interacted\n",
        ""
      ],
      "metadata": {
        "id": "LB1X98gXLdQ1"
      },
      "execution_count": 28,
      "outputs": []
    },
    {
      "cell_type": "code",
      "source": [
        "class FeedForward(nn.Module):\n",
        "\n",
        "    def __init__(self, d_model, middle_dim = 2048):\n",
        "        super(FeedForward, self).__init__()\n",
        "\n",
        "        self.fc1 = nn.Linear(d_model, middle_dim)\n",
        "        self.fc2 = nn.Linear(middle_dim, d_model)\n",
        "        self.dropout = nn.Dropout(0.1)\n",
        "\n",
        "    def forward(self, x):\n",
        "        out = F.relu(self.fc1(x))\n",
        "        out = self.fc2(self.dropout(out))\n",
        "        return out\n",
        ""
      ],
      "metadata": {
        "id": "m31D-dHnLf5P"
      },
      "execution_count": 29,
      "outputs": []
    },
    {
      "cell_type": "code",
      "source": [
        "class EncoderLayer(nn.Module):\n",
        "\n",
        "    def __init__(self, d_model, heads):\n",
        "        super(EncoderLayer, self).__init__()\n",
        "        self.layernorm = nn.LayerNorm(d_model)\n",
        "        self.self_multihead = MultiHeadAttention(heads, d_model)\n",
        "        self.feed_forward = FeedForward(d_model)\n",
        "        self.dropout = nn.Dropout(0.1)\n",
        "\n",
        "    def forward(self, embeddings, mask):\n",
        "        interacted = self.dropout(self.self_multihead(embeddings, embeddings, embeddings, mask))\n",
        "        interacted = self.layernorm(interacted + embeddings)\n",
        "        feed_forward_out = self.dropout(self.feed_forward(interacted))\n",
        "        encoded = self.layernorm(feed_forward_out + interacted)\n",
        "        return encoded\n",
        ""
      ],
      "metadata": {
        "id": "vKNHGpZ_LkW9"
      },
      "execution_count": 30,
      "outputs": []
    },
    {
      "cell_type": "code",
      "source": [
        "class DecoderLayer(nn.Module):\n",
        "\n",
        "    def __init__(self, d_model, heads):\n",
        "        super(DecoderLayer, self).__init__()\n",
        "        self.layernorm = nn.LayerNorm(d_model)\n",
        "        self.self_multihead = MultiHeadAttention(heads, d_model)\n",
        "        self.src_multihead = MultiHeadAttention(heads, d_model)\n",
        "        self.feed_forward = FeedForward(d_model)\n",
        "        self.dropout = nn.Dropout(0.1)\n",
        "\n",
        "    def forward(self, embeddings, encoded, src_mask, target_mask):\n",
        "        query = self.dropout(self.self_multihead(embeddings, embeddings, embeddings, target_mask))\n",
        "        query = self.layernorm(query + embeddings)\n",
        "        interacted = self.dropout(self.src_multihead(query, encoded, encoded, src_mask))\n",
        "        interacted = self.layernorm(interacted + query)\n",
        "        feed_forward_out = self.dropout(self.feed_forward(interacted))\n",
        "        decoded = self.layernorm(feed_forward_out + interacted)\n",
        "        return decoded\n",
        ""
      ],
      "metadata": {
        "id": "2D-1gQG8Lplw"
      },
      "execution_count": 31,
      "outputs": []
    },
    {
      "cell_type": "code",
      "source": [
        "class Transformer(nn.Module):\n",
        "\n",
        "    def __init__(self, d_model, heads, num_layers, word_map):\n",
        "        super(Transformer, self).__init__()\n",
        "\n",
        "        self.d_model = d_model\n",
        "        self.num_layers = num_layers\n",
        "        self.vocab_size = len(word_map)\n",
        "        self.embed = Embeddings(self.vocab_size, d_model, num_layers = num_layers)\n",
        "        self.encoder = EncoderLayer(d_model, heads)\n",
        "        self.decoder = DecoderLayer(d_model, heads)\n",
        "        self.logit = nn.Linear(d_model, self.vocab_size)\n",
        "\n",
        "    def encode(self, src_embeddings, src_mask):\n",
        "        for i in range(self.num_layers):\n",
        "            src_embeddings = self.embed(src_embeddings, i)\n",
        "            src_embeddings = self.encoder(src_embeddings, src_mask)\n",
        "        return src_embeddings\n",
        "\n",
        "    def decode(self, tgt_embeddings, target_mask, src_embeddings, src_mask):\n",
        "        for i in range(self.num_layers):\n",
        "            tgt_embeddings = self.embed(tgt_embeddings, i)\n",
        "            tgt_embeddings = self.decoder(tgt_embeddings, src_embeddings, src_mask, target_mask)\n",
        "        return tgt_embeddings\n",
        "\n",
        "    def forward(self, src_words, src_mask, target_words, target_mask):\n",
        "        encoded = self.encode(src_words, src_mask)\n",
        "        decoded = self.decode(target_words, target_mask, encoded, src_mask)\n",
        "        out = F.log_softmax(self.logit(decoded), dim = 2)\n",
        "        return out\n",
        ""
      ],
      "metadata": {
        "id": "eLkcfiRtLtXr"
      },
      "execution_count": 32,
      "outputs": []
    },
    {
      "cell_type": "code",
      "source": [
        "class AdamWarmup:\n",
        "\n",
        "    def __init__(self, model_size, warmup_steps, optimizer):\n",
        "\n",
        "        self.model_size = model_size\n",
        "        self.warmup_steps = warmup_steps\n",
        "        self.optimizer = optimizer\n",
        "        self.current_step = 0\n",
        "        self.lr = 0\n",
        "\n",
        "    def get_lr(self):\n",
        "        return self.model_size ** (-0.5) * min(self.current_step ** (-0.5), self.current_step * self.warmup_steps ** (-1.5))\n",
        "\n",
        "    def step(self):\n",
        "        # Increment the number of steps each time we call the step function\n",
        "        self.current_step += 1\n",
        "        lr = self.get_lr()\n",
        "        for param_group in self.optimizer.param_groups:\n",
        "            param_group['lr'] = lr\n",
        "        # update the learning rate\n",
        "        self.lr = lr\n",
        "        self.optimizer.step()\n",
        ""
      ],
      "metadata": {
        "id": "5-PBWIXELv6X"
      },
      "execution_count": 33,
      "outputs": []
    },
    {
      "cell_type": "code",
      "source": [
        "class LossWithLS(nn.Module):\n",
        "\n",
        "    def __init__(self, size, smooth):\n",
        "        super(LossWithLS, self).__init__()\n",
        "        self.criterion = nn.KLDivLoss(size_average=False, reduce=False)\n",
        "        self.confidence = 1.0 - smooth\n",
        "        self.smooth = smooth\n",
        "        self.size = size\n",
        "\n",
        "    def forward(self, prediction, target, mask):\n",
        "        \"\"\"\n",
        "        prediction of shape: (batch_size, max_words, vocab_size)\n",
        "        target and mask of shape: (batch_size, max_words)\n",
        "        \"\"\"\n",
        "        prediction = prediction.view(-1, prediction.size(-1))   # (batch_size * max_words, vocab_size)\n",
        "        target = target.contiguous().view(-1)   # (batch_size * max_words)\n",
        "        mask = mask.float()\n",
        "        mask = mask.view(-1)       # (batch_size * max_words)\n",
        "        labels = prediction.data.clone()\n",
        "        labels.fill_(self.smooth / (self.size - 1))\n",
        "        labels.scatter_(1, target.data.unsqueeze(1), self.confidence)\n",
        "        loss = self.criterion(prediction, labels)    # (batch_size * max_words, vocab_size)\n",
        "        loss = (loss.sum(1) * mask).sum() / mask.sum()\n",
        "        return loss\n",
        ""
      ],
      "metadata": {
        "id": "-1jOcp88LzOD"
      },
      "execution_count": 34,
      "outputs": []
    },
    {
      "cell_type": "code",
      "source": [
        "d_model = 512\n",
        "heads = 8\n",
        "num_layers = 1\n",
        "device = torch.device(\"cuda\" if torch.cuda.is_available() else \"cpu\")\n",
        "epochs = 50\n",
        "\n",
        "with open('WORDMAP_corpus.json', 'r') as j:\n",
        "    word_map = json.load(j)\n",
        "\n",
        "transformer = Transformer(d_model = d_model, heads = heads, num_layers = num_layers, word_map = word_map)\n",
        "transformer = transformer.to(device)\n",
        "adam_optimizer = torch.optim.Adam(transformer.parameters(), lr=0, betas=(0.9, 0.98), eps=1e-9)\n",
        "transformer_optimizer = AdamWarmup(model_size = d_model, warmup_steps = 4000, optimizer = adam_optimizer)\n",
        "criterion = LossWithLS(len(word_map), 0.2)\n"
      ],
      "metadata": {
        "colab": {
          "base_uri": "https://localhost:8080/"
        },
        "id": "W8o3hWQbL5tZ",
        "outputId": "8cb9606c-a68c-4a62-db5c-916ca847fdd4"
      },
      "execution_count": 35,
      "outputs": [
        {
          "output_type": "stream",
          "name": "stderr",
          "text": [
            "/usr/local/lib/python3.11/dist-packages/torch/nn/_reduction.py:51: UserWarning: size_average and reduce args will be deprecated, please use reduction='none' instead.\n",
            "  warnings.warn(warning.format(ret))\n"
          ]
        }
      ]
    },
    {
      "cell_type": "code",
      "source": [
        "def train(train_loader, transformer, criterion, epoch):\n",
        "\n",
        "    transformer.train()\n",
        "    sum_loss = 0\n",
        "    count = 0\n",
        "\n",
        "    for i, (question, reply) in enumerate(train_loader):\n",
        "\n",
        "        samples = question.shape[0]\n",
        "\n",
        "        # Move to device\n",
        "        question = question.to(device)\n",
        "        reply = reply.to(device)\n",
        "\n",
        "        # Prepare Target Data\n",
        "        reply_input = reply[:, :-1]\n",
        "        reply_target = reply[:, 1:]\n",
        "\n",
        "        # Create mask and add dimensions\n",
        "        question_mask, reply_input_mask, reply_target_mask = create_masks(question, reply_input, reply_target)\n",
        "\n",
        "        # Get the transformer outputs\n",
        "        out = transformer(question, question_mask, reply_input, reply_input_mask)\n",
        "\n",
        "        # Compute the loss\n",
        "        loss = criterion(out, reply_target, reply_target_mask)\n",
        "\n",
        "        # Backprop\n",
        "        transformer_optimizer.optimizer.zero_grad()\n",
        "        loss.backward()\n",
        "        transformer_optimizer.step()\n",
        "\n",
        "        sum_loss += loss.item() * samples\n",
        "        count += samples\n",
        "\n",
        "        if i % 100 == 0:\n",
        "            print(\"Epoch [{}][{}/{}]\\tLoss: {:.3f}\".format(epoch, i, len(train_loader), sum_loss/count))\n",
        ""
      ],
      "metadata": {
        "id": "h5vyvuREL-Jz"
      },
      "execution_count": 36,
      "outputs": []
    },
    {
      "cell_type": "code",
      "source": [
        "def evaluate(transformer, question, question_mask, max_len, word_map):\n",
        "    \"\"\"\n",
        "    Performs Greedy Decoding with a batch size of 1\n",
        "    \"\"\"\n",
        "    rev_word_map = {v: k for k, v in word_map.items()}\n",
        "    transformer.eval()\n",
        "    start_token = word_map['<start>']\n",
        "    encoded = transformer.encode(question, question_mask)\n",
        "    words = torch.LongTensor([[start_token]]).to(device)\n",
        "\n",
        "    for step in range(max_len - 1):\n",
        "        size = words.shape[1]\n",
        "        target_mask = torch.triu(torch.ones(size, size)).transpose(0, 1).type(dtype=torch.uint8)\n",
        "        target_mask = target_mask.to(device).unsqueeze(0).unsqueeze(0)\n",
        "        decoded = transformer.decode(words, target_mask, encoded, question_mask)\n",
        "        predictions = transformer.logit(decoded[:, -1])\n",
        "        _, next_word = torch.max(predictions, dim = 1)\n",
        "        next_word = next_word.item()\n",
        "        if next_word == word_map['<end>']:\n",
        "            break\n",
        "        words = torch.cat([words, torch.LongTensor([[next_word]]).to(device)], dim = 1)   # (1,step+2)\n",
        "\n",
        "    # Construct Sentence\n",
        "    if words.dim() == 2:\n",
        "        words = words.squeeze(0)\n",
        "        words = words.tolist()\n",
        "\n",
        "    sen_idx = [w for w in words if w not in {word_map['<start>']}]\n",
        "    sentence = ' '.join([rev_word_map[sen_idx[k]] for k in range(len(sen_idx))])\n",
        "\n",
        "    return sentence\n",
        ""
      ],
      "metadata": {
        "id": "YsrWSfPQMDRC"
      },
      "execution_count": 37,
      "outputs": []
    },
    {
      "cell_type": "code",
      "source": [
        "for epoch in range(epochs):\n",
        "\n",
        "    train(train_loader, transformer, criterion, epoch)\n",
        "\n",
        "    state = {'epoch': epoch, 'transformer': transformer, 'transformer_optimizer': transformer_optimizer}\n",
        "    torch.save(state, 'checkpoint_' + str(epoch) + '.pth.tar')\n",
        ""
      ],
      "metadata": {
        "colab": {
          "base_uri": "https://localhost:8080/"
        },
        "id": "OItrBdLPMGV3",
        "outputId": "58f6e8b1-9710-4c88-87a4-12affd5f7e32"
      },
      "execution_count": 38,
      "outputs": [
        {
          "output_type": "stream",
          "name": "stdout",
          "text": [
            "Epoch [0][0/2217]\tLoss: 7.495\n",
            "Epoch [0][100/2217]\tLoss: 7.225\n",
            "Epoch [0][200/2217]\tLoss: 6.527\n",
            "Epoch [0][300/2217]\tLoss: 5.989\n",
            "Epoch [0][400/2217]\tLoss: 5.659\n",
            "Epoch [0][500/2217]\tLoss: 5.439\n",
            "Epoch [0][600/2217]\tLoss: 5.271\n",
            "Epoch [0][700/2217]\tLoss: 5.140\n",
            "Epoch [0][800/2217]\tLoss: 5.036\n",
            "Epoch [0][900/2217]\tLoss: 4.949\n",
            "Epoch [0][1000/2217]\tLoss: 4.874\n",
            "Epoch [0][1100/2217]\tLoss: 4.811\n",
            "Epoch [0][1200/2217]\tLoss: 4.756\n",
            "Epoch [0][1300/2217]\tLoss: 4.707\n",
            "Epoch [0][1400/2217]\tLoss: 4.664\n",
            "Epoch [0][1500/2217]\tLoss: 4.627\n",
            "Epoch [0][1600/2217]\tLoss: 4.593\n",
            "Epoch [0][1700/2217]\tLoss: 4.562\n",
            "Epoch [0][1800/2217]\tLoss: 4.534\n",
            "Epoch [0][1900/2217]\tLoss: 4.508\n",
            "Epoch [0][2000/2217]\tLoss: 4.486\n",
            "Epoch [0][2100/2217]\tLoss: 4.464\n",
            "Epoch [0][2200/2217]\tLoss: 4.444\n",
            "Epoch [1][0/2217]\tLoss: 4.047\n",
            "Epoch [1][100/2217]\tLoss: 3.963\n",
            "Epoch [1][200/2217]\tLoss: 3.964\n",
            "Epoch [1][300/2217]\tLoss: 3.967\n",
            "Epoch [1][400/2217]\tLoss: 3.972\n",
            "Epoch [1][500/2217]\tLoss: 3.971\n",
            "Epoch [1][600/2217]\tLoss: 3.972\n",
            "Epoch [1][700/2217]\tLoss: 3.973\n",
            "Epoch [1][800/2217]\tLoss: 3.973\n",
            "Epoch [1][900/2217]\tLoss: 3.974\n",
            "Epoch [1][1000/2217]\tLoss: 3.975\n",
            "Epoch [1][1100/2217]\tLoss: 3.972\n",
            "Epoch [1][1200/2217]\tLoss: 3.973\n",
            "Epoch [1][1300/2217]\tLoss: 3.972\n",
            "Epoch [1][1400/2217]\tLoss: 3.972\n",
            "Epoch [1][1500/2217]\tLoss: 3.973\n",
            "Epoch [1][1600/2217]\tLoss: 3.972\n",
            "Epoch [1][1700/2217]\tLoss: 3.971\n",
            "Epoch [1][1800/2217]\tLoss: 3.971\n",
            "Epoch [1][1900/2217]\tLoss: 3.971\n",
            "Epoch [1][2000/2217]\tLoss: 3.970\n",
            "Epoch [1][2100/2217]\tLoss: 3.970\n",
            "Epoch [1][2200/2217]\tLoss: 3.969\n",
            "Epoch [2][0/2217]\tLoss: 3.968\n",
            "Epoch [2][100/2217]\tLoss: 3.885\n",
            "Epoch [2][200/2217]\tLoss: 3.887\n",
            "Epoch [2][300/2217]\tLoss: 3.890\n",
            "Epoch [2][400/2217]\tLoss: 3.894\n",
            "Epoch [2][500/2217]\tLoss: 3.896\n",
            "Epoch [2][600/2217]\tLoss: 3.895\n",
            "Epoch [2][700/2217]\tLoss: 3.893\n",
            "Epoch [2][800/2217]\tLoss: 3.894\n",
            "Epoch [2][900/2217]\tLoss: 3.896\n",
            "Epoch [2][1000/2217]\tLoss: 3.897\n",
            "Epoch [2][1100/2217]\tLoss: 3.897\n",
            "Epoch [2][1200/2217]\tLoss: 3.897\n",
            "Epoch [2][1300/2217]\tLoss: 3.898\n",
            "Epoch [2][1400/2217]\tLoss: 3.898\n",
            "Epoch [2][1500/2217]\tLoss: 3.897\n",
            "Epoch [2][1600/2217]\tLoss: 3.897\n",
            "Epoch [2][1700/2217]\tLoss: 3.897\n",
            "Epoch [2][1800/2217]\tLoss: 3.897\n",
            "Epoch [2][1900/2217]\tLoss: 3.898\n",
            "Epoch [2][2000/2217]\tLoss: 3.898\n",
            "Epoch [2][2100/2217]\tLoss: 3.897\n",
            "Epoch [2][2200/2217]\tLoss: 3.896\n",
            "Epoch [3][0/2217]\tLoss: 3.773\n",
            "Epoch [3][100/2217]\tLoss: 3.809\n",
            "Epoch [3][200/2217]\tLoss: 3.819\n",
            "Epoch [3][300/2217]\tLoss: 3.827\n",
            "Epoch [3][400/2217]\tLoss: 3.830\n",
            "Epoch [3][500/2217]\tLoss: 3.831\n",
            "Epoch [3][600/2217]\tLoss: 3.831\n",
            "Epoch [3][700/2217]\tLoss: 3.831\n",
            "Epoch [3][800/2217]\tLoss: 3.832\n",
            "Epoch [3][900/2217]\tLoss: 3.834\n",
            "Epoch [3][1000/2217]\tLoss: 3.833\n",
            "Epoch [3][1100/2217]\tLoss: 3.835\n",
            "Epoch [3][1200/2217]\tLoss: 3.835\n",
            "Epoch [3][1300/2217]\tLoss: 3.836\n",
            "Epoch [3][1400/2217]\tLoss: 3.836\n",
            "Epoch [3][1500/2217]\tLoss: 3.836\n",
            "Epoch [3][1600/2217]\tLoss: 3.837\n",
            "Epoch [3][1700/2217]\tLoss: 3.837\n",
            "Epoch [3][1800/2217]\tLoss: 3.837\n",
            "Epoch [3][1900/2217]\tLoss: 3.838\n",
            "Epoch [3][2000/2217]\tLoss: 3.838\n",
            "Epoch [3][2100/2217]\tLoss: 3.838\n",
            "Epoch [3][2200/2217]\tLoss: 3.839\n",
            "Epoch [4][0/2217]\tLoss: 3.830\n",
            "Epoch [4][100/2217]\tLoss: 3.770\n",
            "Epoch [4][200/2217]\tLoss: 3.778\n",
            "Epoch [4][300/2217]\tLoss: 3.778\n",
            "Epoch [4][400/2217]\tLoss: 3.782\n",
            "Epoch [4][500/2217]\tLoss: 3.784\n",
            "Epoch [4][600/2217]\tLoss: 3.785\n",
            "Epoch [4][700/2217]\tLoss: 3.785\n",
            "Epoch [4][800/2217]\tLoss: 3.788\n",
            "Epoch [4][900/2217]\tLoss: 3.791\n",
            "Epoch [4][1000/2217]\tLoss: 3.792\n",
            "Epoch [4][1100/2217]\tLoss: 3.792\n",
            "Epoch [4][1200/2217]\tLoss: 3.793\n",
            "Epoch [4][1300/2217]\tLoss: 3.794\n",
            "Epoch [4][1400/2217]\tLoss: 3.794\n",
            "Epoch [4][1500/2217]\tLoss: 3.795\n",
            "Epoch [4][1600/2217]\tLoss: 3.795\n",
            "Epoch [4][1700/2217]\tLoss: 3.796\n",
            "Epoch [4][1800/2217]\tLoss: 3.797\n",
            "Epoch [4][1900/2217]\tLoss: 3.797\n",
            "Epoch [4][2000/2217]\tLoss: 3.798\n",
            "Epoch [4][2100/2217]\tLoss: 3.799\n",
            "Epoch [4][2200/2217]\tLoss: 3.799\n",
            "Epoch [5][0/2217]\tLoss: 3.673\n",
            "Epoch [5][100/2217]\tLoss: 3.731\n",
            "Epoch [5][200/2217]\tLoss: 3.733\n",
            "Epoch [5][300/2217]\tLoss: 3.740\n",
            "Epoch [5][400/2217]\tLoss: 3.745\n",
            "Epoch [5][500/2217]\tLoss: 3.748\n",
            "Epoch [5][600/2217]\tLoss: 3.752\n",
            "Epoch [5][700/2217]\tLoss: 3.755\n",
            "Epoch [5][800/2217]\tLoss: 3.756\n",
            "Epoch [5][900/2217]\tLoss: 3.758\n",
            "Epoch [5][1000/2217]\tLoss: 3.760\n",
            "Epoch [5][1100/2217]\tLoss: 3.761\n",
            "Epoch [5][1200/2217]\tLoss: 3.762\n",
            "Epoch [5][1300/2217]\tLoss: 3.763\n",
            "Epoch [5][1400/2217]\tLoss: 3.765\n",
            "Epoch [5][1500/2217]\tLoss: 3.766\n",
            "Epoch [5][1600/2217]\tLoss: 3.766\n",
            "Epoch [5][1700/2217]\tLoss: 3.767\n",
            "Epoch [5][1800/2217]\tLoss: 3.767\n",
            "Epoch [5][1900/2217]\tLoss: 3.769\n",
            "Epoch [5][2000/2217]\tLoss: 3.769\n",
            "Epoch [5][2100/2217]\tLoss: 3.770\n",
            "Epoch [5][2200/2217]\tLoss: 3.771\n",
            "Epoch [6][0/2217]\tLoss: 3.677\n",
            "Epoch [6][100/2217]\tLoss: 3.711\n",
            "Epoch [6][200/2217]\tLoss: 3.710\n",
            "Epoch [6][300/2217]\tLoss: 3.716\n",
            "Epoch [6][400/2217]\tLoss: 3.723\n",
            "Epoch [6][500/2217]\tLoss: 3.724\n",
            "Epoch [6][600/2217]\tLoss: 3.724\n",
            "Epoch [6][700/2217]\tLoss: 3.728\n",
            "Epoch [6][800/2217]\tLoss: 3.731\n",
            "Epoch [6][900/2217]\tLoss: 3.730\n",
            "Epoch [6][1000/2217]\tLoss: 3.731\n",
            "Epoch [6][1100/2217]\tLoss: 3.732\n",
            "Epoch [6][1200/2217]\tLoss: 3.734\n",
            "Epoch [6][1300/2217]\tLoss: 3.735\n",
            "Epoch [6][1400/2217]\tLoss: 3.736\n",
            "Epoch [6][1500/2217]\tLoss: 3.737\n",
            "Epoch [6][1600/2217]\tLoss: 3.738\n",
            "Epoch [6][1700/2217]\tLoss: 3.739\n",
            "Epoch [6][1800/2217]\tLoss: 3.740\n",
            "Epoch [6][1900/2217]\tLoss: 3.741\n",
            "Epoch [6][2000/2217]\tLoss: 3.742\n",
            "Epoch [6][2100/2217]\tLoss: 3.744\n",
            "Epoch [6][2200/2217]\tLoss: 3.744\n",
            "Epoch [7][0/2217]\tLoss: 3.710\n",
            "Epoch [7][100/2217]\tLoss: 3.686\n",
            "Epoch [7][200/2217]\tLoss: 3.689\n",
            "Epoch [7][300/2217]\tLoss: 3.691\n",
            "Epoch [7][400/2217]\tLoss: 3.693\n",
            "Epoch [7][500/2217]\tLoss: 3.695\n",
            "Epoch [7][600/2217]\tLoss: 3.698\n",
            "Epoch [7][700/2217]\tLoss: 3.702\n",
            "Epoch [7][800/2217]\tLoss: 3.704\n",
            "Epoch [7][900/2217]\tLoss: 3.706\n",
            "Epoch [7][1000/2217]\tLoss: 3.708\n",
            "Epoch [7][1100/2217]\tLoss: 3.709\n",
            "Epoch [7][1200/2217]\tLoss: 3.710\n",
            "Epoch [7][1300/2217]\tLoss: 3.711\n",
            "Epoch [7][1400/2217]\tLoss: 3.713\n",
            "Epoch [7][1500/2217]\tLoss: 3.715\n",
            "Epoch [7][1600/2217]\tLoss: 3.716\n",
            "Epoch [7][1700/2217]\tLoss: 3.718\n",
            "Epoch [7][1800/2217]\tLoss: 3.719\n",
            "Epoch [7][1900/2217]\tLoss: 3.720\n",
            "Epoch [7][2000/2217]\tLoss: 3.721\n",
            "Epoch [7][2100/2217]\tLoss: 3.722\n",
            "Epoch [7][2200/2217]\tLoss: 3.722\n",
            "Epoch [8][0/2217]\tLoss: 3.591\n",
            "Epoch [8][100/2217]\tLoss: 3.666\n",
            "Epoch [8][200/2217]\tLoss: 3.675\n",
            "Epoch [8][300/2217]\tLoss: 3.673\n",
            "Epoch [8][400/2217]\tLoss: 3.677\n",
            "Epoch [8][500/2217]\tLoss: 3.680\n",
            "Epoch [8][600/2217]\tLoss: 3.682\n",
            "Epoch [8][700/2217]\tLoss: 3.683\n",
            "Epoch [8][800/2217]\tLoss: 3.686\n",
            "Epoch [8][900/2217]\tLoss: 3.688\n",
            "Epoch [8][1000/2217]\tLoss: 3.689\n",
            "Epoch [8][1100/2217]\tLoss: 3.690\n",
            "Epoch [8][1200/2217]\tLoss: 3.691\n",
            "Epoch [8][1300/2217]\tLoss: 3.693\n",
            "Epoch [8][1400/2217]\tLoss: 3.693\n",
            "Epoch [8][1500/2217]\tLoss: 3.695\n",
            "Epoch [8][1600/2217]\tLoss: 3.696\n",
            "Epoch [8][1700/2217]\tLoss: 3.697\n",
            "Epoch [8][1800/2217]\tLoss: 3.698\n",
            "Epoch [8][1900/2217]\tLoss: 3.699\n",
            "Epoch [8][2000/2217]\tLoss: 3.701\n",
            "Epoch [8][2100/2217]\tLoss: 3.702\n",
            "Epoch [8][2200/2217]\tLoss: 3.703\n",
            "Epoch [9][0/2217]\tLoss: 3.640\n",
            "Epoch [9][100/2217]\tLoss: 3.639\n",
            "Epoch [9][200/2217]\tLoss: 3.653\n",
            "Epoch [9][300/2217]\tLoss: 3.656\n",
            "Epoch [9][400/2217]\tLoss: 3.657\n",
            "Epoch [9][500/2217]\tLoss: 3.660\n",
            "Epoch [9][600/2217]\tLoss: 3.664\n",
            "Epoch [9][700/2217]\tLoss: 3.666\n",
            "Epoch [9][800/2217]\tLoss: 3.667\n",
            "Epoch [9][900/2217]\tLoss: 3.669\n",
            "Epoch [9][1000/2217]\tLoss: 3.672\n",
            "Epoch [9][1100/2217]\tLoss: 3.673\n",
            "Epoch [9][1200/2217]\tLoss: 3.675\n",
            "Epoch [9][1300/2217]\tLoss: 3.675\n",
            "Epoch [9][1400/2217]\tLoss: 3.677\n",
            "Epoch [9][1500/2217]\tLoss: 3.678\n",
            "Epoch [9][1600/2217]\tLoss: 3.680\n",
            "Epoch [9][1700/2217]\tLoss: 3.681\n",
            "Epoch [9][1800/2217]\tLoss: 3.682\n",
            "Epoch [9][1900/2217]\tLoss: 3.682\n",
            "Epoch [9][2000/2217]\tLoss: 3.684\n",
            "Epoch [9][2100/2217]\tLoss: 3.685\n",
            "Epoch [9][2200/2217]\tLoss: 3.685\n"
          ]
        }
      ]
    },
    {
      "cell_type": "code",
      "source": [
        "\n",
        "checkpoint = torch.load('checkpoint_0.pth.tar')\n",
        "transformer = checkpoint['transformer']\n"
      ],
      "metadata": {
        "colab": {
          "base_uri": "https://localhost:8080/",
          "height": 636
        },
        "id": "UGkeTf1mMKqM",
        "outputId": "54f3207a-0e16-49c0-eaa9-f26ad9f7649e"
      },
      "execution_count": 39,
      "outputs": [
        {
          "output_type": "error",
          "ename": "UnpicklingError",
          "evalue": "Weights only load failed. This file can still be loaded, to do so you have two options, \u001b[1mdo those steps only if you trust the source of the checkpoint\u001b[0m. \n\t(1) In PyTorch 2.6, we changed the default value of the `weights_only` argument in `torch.load` from `False` to `True`. Re-running `torch.load` with `weights_only` set to `False` will likely succeed, but it can result in arbitrary code execution. Do it only if you got the file from a trusted source.\n\t(2) Alternatively, to load with `weights_only=True` please check the recommended steps in the following error message.\n\tWeightsUnpickler error: Unsupported global: GLOBAL __main__.Transformer was not an allowed global by default. Please use `torch.serialization.add_safe_globals([Transformer])` or the `torch.serialization.safe_globals([Transformer])` context manager to allowlist this global if you trust this class/function.\n\nCheck the documentation of torch.load to learn more about types accepted by default with weights_only https://pytorch.org/docs/stable/generated/torch.load.html.",
          "traceback": [
            "\u001b[0;31m---------------------------------------------------------------------------\u001b[0m",
            "\u001b[0;31mUnpicklingError\u001b[0m                           Traceback (most recent call last)",
            "\u001b[0;32m<ipython-input-39-de46d113fd33>\u001b[0m in \u001b[0;36m<cell line: 0>\u001b[0;34m()\u001b[0m\n\u001b[0;32m----> 1\u001b[0;31m \u001b[0mcheckpoint\u001b[0m \u001b[0;34m=\u001b[0m \u001b[0mtorch\u001b[0m\u001b[0;34m.\u001b[0m\u001b[0mload\u001b[0m\u001b[0;34m(\u001b[0m\u001b[0;34m'checkpoint_0.pth.tar'\u001b[0m\u001b[0;34m)\u001b[0m\u001b[0;34m\u001b[0m\u001b[0;34m\u001b[0m\u001b[0m\n\u001b[0m\u001b[1;32m      2\u001b[0m \u001b[0mtransformer\u001b[0m \u001b[0;34m=\u001b[0m \u001b[0mcheckpoint\u001b[0m\u001b[0;34m[\u001b[0m\u001b[0;34m'transformer'\u001b[0m\u001b[0;34m]\u001b[0m\u001b[0;34m\u001b[0m\u001b[0;34m\u001b[0m\u001b[0m\n",
            "\u001b[0;32m/usr/local/lib/python3.11/dist-packages/torch/serialization.py\u001b[0m in \u001b[0;36mload\u001b[0;34m(f, map_location, pickle_module, weights_only, mmap, **pickle_load_args)\u001b[0m\n\u001b[1;32m   1468\u001b[0m                         )\n\u001b[1;32m   1469\u001b[0m                     \u001b[0;32mexcept\u001b[0m \u001b[0mpickle\u001b[0m\u001b[0;34m.\u001b[0m\u001b[0mUnpicklingError\u001b[0m \u001b[0;32mas\u001b[0m \u001b[0me\u001b[0m\u001b[0;34m:\u001b[0m\u001b[0;34m\u001b[0m\u001b[0;34m\u001b[0m\u001b[0m\n\u001b[0;32m-> 1470\u001b[0;31m                         \u001b[0;32mraise\u001b[0m \u001b[0mpickle\u001b[0m\u001b[0;34m.\u001b[0m\u001b[0mUnpicklingError\u001b[0m\u001b[0;34m(\u001b[0m\u001b[0m_get_wo_message\u001b[0m\u001b[0;34m(\u001b[0m\u001b[0mstr\u001b[0m\u001b[0;34m(\u001b[0m\u001b[0me\u001b[0m\u001b[0;34m)\u001b[0m\u001b[0;34m)\u001b[0m\u001b[0;34m)\u001b[0m \u001b[0;32mfrom\u001b[0m \u001b[0;32mNone\u001b[0m\u001b[0;34m\u001b[0m\u001b[0;34m\u001b[0m\u001b[0m\n\u001b[0m\u001b[1;32m   1471\u001b[0m                 return _load(\n\u001b[1;32m   1472\u001b[0m                     \u001b[0mopened_zipfile\u001b[0m\u001b[0;34m,\u001b[0m\u001b[0;34m\u001b[0m\u001b[0;34m\u001b[0m\u001b[0m\n",
            "\u001b[0;31mUnpicklingError\u001b[0m: Weights only load failed. This file can still be loaded, to do so you have two options, \u001b[1mdo those steps only if you trust the source of the checkpoint\u001b[0m. \n\t(1) In PyTorch 2.6, we changed the default value of the `weights_only` argument in `torch.load` from `False` to `True`. Re-running `torch.load` with `weights_only` set to `False` will likely succeed, but it can result in arbitrary code execution. Do it only if you got the file from a trusted source.\n\t(2) Alternatively, to load with `weights_only=True` please check the recommended steps in the following error message.\n\tWeightsUnpickler error: Unsupported global: GLOBAL __main__.Transformer was not an allowed global by default. Please use `torch.serialization.add_safe_globals([Transformer])` or the `torch.serialization.safe_globals([Transformer])` context manager to allowlist this global if you trust this class/function.\n\nCheck the documentation of torch.load to learn more about types accepted by default with weights_only https://pytorch.org/docs/stable/generated/torch.load.html."
          ]
        }
      ]
    },
    {
      "cell_type": "code",
      "source": [
        "while(1):\n",
        "    question = input(\"Question: \")\n",
        "    if question == 'quit':\n",
        "        break\n",
        "    max_len = input(\"Maximum Reply Length: \")\n",
        "    enc_qus = [word_map.get(word, word_map['<unk>']) for word in question.split()]\n",
        "    question = torch.LongTensor(enc_qus).to(device).unsqueeze(0)\n",
        "    question_mask = (question!=0).to(device).unsqueeze(1).unsqueeze(1)\n",
        "    sentence = evaluate(transformer, question, question_mask, int(max_len), word_map)\n",
        "    print(sentence)\n",
        ""
      ],
      "metadata": {
        "colab": {
          "base_uri": "https://localhost:8080/"
        },
        "id": "opm5U7duMNMX",
        "outputId": "05bb4bbc-dd1a-4c26-a35d-368f5744f549"
      },
      "execution_count": 40,
      "outputs": [
        {
          "name": "stdout",
          "output_type": "stream",
          "text": [
            "Question: it so hot today\n",
            "Maximum Reply Length: 20\n",
            "i dont know\n",
            "Question: i love you\n",
            "Maximum Reply Length: 10\n",
            "i love you too\n",
            "Question: the sky is \n",
            "Maximum Reply Length: 10\n",
            "no no no no no no no no no\n",
            "Question: i want to go some where\n",
            "Maximum Reply Length: 25\n",
            "i dont know\n",
            "Question: who are you?\n",
            "Maximum Reply Length: 10\n",
            "i dont know\n",
            "Question: do you have a minute?\n",
            "Maximum Reply Length: 10\n",
            "no\n",
            "Question: quit\n"
          ]
        }
      ]
    }
  ]
}